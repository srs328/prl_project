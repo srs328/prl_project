{
 "cells": [
  {
   "cell_type": "code",
   "execution_count": 1,
   "id": "7c5c4840",
   "metadata": {},
   "outputs": [
    {
     "name": "stdout",
     "output_type": "stream",
     "text": [
      "MONAI version: 1.4.0\n",
      "Numpy version: 1.26.4\n",
      "Pytorch version: 2.5.1+cu124\n",
      "MONAI flags: HAS_EXT = False, USE_COMPILED = False, USE_META_DICT = False\n",
      "MONAI rev id: 46a5272196a6c2590ca2589029eed8e4d56ff008\n",
      "MONAI __file__: /home/<username>/.virtualenvs/monai/lib/python3.12/site-packages/monai/__init__.py\n",
      "\n",
      "Optional dependencies:\n",
      "Pytorch Ignite version: NOT INSTALLED or UNKNOWN VERSION.\n",
      "ITK version: 5.4.0\n",
      "Nibabel version: 5.3.2\n",
      "scikit-image version: 0.24.0\n",
      "scipy version: 1.14.1\n",
      "Pillow version: 11.0.0\n",
      "Tensorboard version: 2.18.0\n",
      "gdown version: 5.2.0\n",
      "TorchVision version: 0.20.1+cu124\n",
      "tqdm version: 4.66.6\n",
      "lmdb version: 1.5.1\n",
      "psutil version: 6.1.0\n",
      "pandas version: 2.2.3\n",
      "einops version: 0.8.0\n",
      "transformers version: 4.46.2\n",
      "mlflow version: 2.17.2\n",
      "pynrrd version: 1.1.1\n",
      "clearml version: 1.16.5\n",
      "\n",
      "For details about installing the optional dependencies, please visit:\n",
      "    https://docs.monai.io/en/latest/installation.html#installing-the-recommended-dependencies\n",
      "\n"
     ]
    }
   ],
   "source": [
    "import os\n",
    "from pathlib import Path\n",
    "from monai.apps.auto3dseg import AutoRunner\n",
    "from monai.config import print_config\n",
    "import shutil\n",
    "import json\n",
    "import warnings\n",
    "\n",
    "print_config()"
   ]
  },
  {
   "cell_type": "markdown",
   "id": "0db56872",
   "metadata": {},
   "source": [
    "You can edit these if you want"
   ]
  },
  {
   "cell_type": "code",
   "execution_count": null,
   "id": "f305ecca",
   "metadata": {},
   "outputs": [],
   "source": [
    "model = \"segresnet\" #! edit this\n",
    "\n",
    "description = \\\n",
    "\"\"\"\n",
    "Fill this in with whatever information\n",
    "you want about this training. it will be saved to a text file \n",
    "\"\"\""
   ]
  },
  {
   "cell_type": "markdown",
   "id": "720a8be9",
   "metadata": {},
   "source": [
    "Don't change anything below here.\n",
    "\n",
    "Set all paths"
   ]
  },
  {
   "cell_type": "code",
   "execution_count": null,
   "id": "4ce350c3",
   "metadata": {},
   "outputs": [],
   "source": [
    "dataroot = Path(\"/media/smbshare/3Tpioneer_bids\")\n",
    "curr_dir = Path(os.getcwd())\n",
    "work_dir = curr_dir / f\"{model}_work_dir\"\n",
    "\n",
    "datalist_file_src = curr_dir /  \"datalist.json\"\n",
    "datalist_file = work_dir / \"datalist.json\""
   ]
  },
  {
   "cell_type": "markdown",
   "id": "8523529b",
   "metadata": {},
   "source": [
    "Scan datalist to make sure all the files exist"
   ]
  },
  {
   "cell_type": "code",
   "execution_count": null,
   "id": "d7c8d6f8",
   "metadata": {},
   "outputs": [],
   "source": [
    "with open(datalist_file_src, 'r') as f:\n",
    "    datalist = json.load(f)\n",
    "\n",
    "testing = datalist['testing']\n",
    "training = datalist['training']\n",
    "\n",
    "for item in training:\n",
    "    if not os.path.exists(item['image']):\n",
    "        raise FileNotFoundError(f\"Cannot find image {item['image']}, double check training data in datalist.json\")\n",
    "    if not os.path.exists(item['label']):\n",
    "        raise FileNotFoundError(f\"Cannot find label {item['label']}, double check training data in datalist file\")\n",
    "    \n",
    "for item in testing:\n",
    "    if not os.path.exists(item['image']):\n",
    "        raise FileNotFoundError(f\"Cannot find image {item['image']}, double check testing data in datalist.json\")\n",
    "    if not os.path.exists(item['label']):\n",
    "        warnings.warn(f\"Cannot find label {item['label']}, double check datalist file. Code will run, but you won't have a ground truth to compare\")"
   ]
  },
  {
   "cell_type": "markdown",
   "id": "b43361c1",
   "metadata": {},
   "source": [
    "Create the working directory for Auto3dSeg"
   ]
  },
  {
   "cell_type": "code",
   "execution_count": null,
   "id": "723bb8fa",
   "metadata": {},
   "outputs": [],
   "source": [
    "valid_models = [\"segresnet\", \"swinunetr\", \"dints\", \"segresnet2d\"]\n",
    "if model not in valid_models:\n",
    "    raise ValueError(f\"The model provided is not valid. It should be one of: {\", \".join(valid_models)}\")\n",
    "\n",
    "if not work_dir.exists():\n",
    "    os.makedirs(work_dir)\n",
    "\n",
    "if not datalist_file_src.exists():\n",
    "    raise FileNotFoundError(\"datalist.json file cannot be found\")\n",
    "\n",
    "shutil.copyfile(datalist_file_src, datalist_file)\n",
    "\n",
    "with open(work_dir / \"info.txt\", 'w') as f:\n",
    "    f.write(description)"
   ]
  },
  {
   "cell_type": "markdown",
   "id": "2413d012",
   "metadata": {},
   "source": [
    "Setup training and run"
   ]
  },
  {
   "cell_type": "code",
   "execution_count": null,
   "id": "0e1ea91b",
   "metadata": {},
   "outputs": [],
   "source": [
    "runner = AutoRunner(\n",
    "    work_dir=work_dir,\n",
    "    algos=[model],\n",
    "    input={\n",
    "        \"modality\": \"MRI\",\n",
    "        \"datalist\": str(datalist_file),\n",
    "        \"dataroot\": str(dataroot),\n",
    "    },\n",
    ")\n",
    "\n",
    "max_epochs = 250\n",
    "train_param = {\n",
    "    \"num_epochs_per_validation\": 1,\n",
    "    #\"num_images_per_batch\": 2,\n",
    "    \"num_epochs\": max_epochs,\n",
    "    \"num_warmup_epochs\": 1,\n",
    "}\n",
    "runner.set_training_params(train_param)"
   ]
  },
  {
   "cell_type": "code",
   "execution_count": null,
   "id": "52484c5d",
   "metadata": {},
   "outputs": [],
   "source": [
    "runner.run()"
   ]
  }
 ],
 "metadata": {
  "kernelspec": {
   "display_name": "monai",
   "language": "python",
   "name": "python3"
  },
  "language_info": {
   "codemirror_mode": {
    "name": "ipython",
    "version": 3
   },
   "file_extension": ".py",
   "mimetype": "text/x-python",
   "name": "python",
   "nbconvert_exporter": "python",
   "pygments_lexer": "ipython3",
   "version": "3.12.7"
  }
 },
 "nbformat": 4,
 "nbformat_minor": 5
}
