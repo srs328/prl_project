{
 "cells": [
  {
   "cell_type": "code",
   "execution_count": 2,
   "id": "16520926",
   "metadata": {},
   "outputs": [],
   "source": [
    "from pathlib import Path\n",
    "from mri_data import utils\n",
    "import nibabel as nib\n",
    "import os\n",
    "import json\n",
    "import re\n",
    "import statistics\n",
    "import numpy as np\n",
    "import pyperclip\n",
    "import subprocess\n",
    "from mri_data import file_manager as fm\n",
    "import pandas as pd"
   ]
  },
  {
   "cell_type": "code",
   "execution_count": 14,
   "id": "a209f40b",
   "metadata": {},
   "outputs": [],
   "source": [
    "drive_root = fm.get_drive_root()\n",
    "dataroot = drive_root / \"3Tpioneer_bids\"\n",
    "training_work_home = Path(\"/home/srs-9/Projects/prl_project/training_work_dirs\")\n",
    "# training_work_home = drive_root / \"srs-9/prl_project/training_work_dirs\"\n",
    "work_dir = training_work_home / \"test_train0_swinunet\" #! edit this\n",
    "ensemble_dir = work_dir / \"ensemble_output\"\n",
    "datalist_file = work_dir / \"datalist.json\"\n",
    "\n",
    "prl_info = pd.read_csv(\"/home/srs-9/Projects/prl_project/data/PRL_labels.csv\", index_col=\"subid\")\n",
    "\n",
    "def subid_from_subject(subject):\n",
    "    return int(re.search(r\"(\\d{4})\", subject)[1])\n",
    "# prl_info['subid'] = prl_info['ID'].map(subid_from_subject)\n",
    "# prl_info.set_index(\"subid\", inplace=True)"
   ]
  },
  {
   "cell_type": "code",
   "execution_count": 18,
   "id": "849a8d20",
   "metadata": {},
   "outputs": [],
   "source": [
    "with open(datalist_file, 'r') as f:\n",
    "    datalist = json.load(f)\n",
    "\n",
    "inferences = []\n",
    "labels = []\n",
    "subjects = []\n",
    "subids = []\n",
    "for item in datalist['testing']:\n",
    "    label = str(drive_root / Path(item['label']).relative_to(\"/media/smbshare\"))\n",
    "    assert os.path.exists(label)\n",
    "    labels.append(label)\n",
    "    subject = re.search(r\"(sub-ms(\\d{4}))\", label)[1]\n",
    "    subjects.append(subject)\n",
    "    subids.append(int(re.search(r\"(sub-ms(\\d{4}))\", label)[2]))\n",
    "    session = re.search(r\"(ses-\\d{8})\", label)[1]\n",
    "    inf = ensemble_dir / subject / session / \"flair.phase.t1.nii.gz\"\n",
    "    assert inf.exists()\n",
    "    inferences.append(str(inf))"
   ]
  },
  {
   "cell_type": "code",
   "execution_count": 31,
   "id": "f80e619a",
   "metadata": {},
   "outputs": [],
   "source": [
    "\n",
    "data = {\"subid\": [], \"lesion_dice\": [], \"prl_dice\": [], \"nPRL\": []}\n",
    "for sub, lab, inf in zip(subids, labels, inferences):\n",
    "    lab_data = nib.load(lab).get_fdata()\n",
    "    inf_data = nib.load(inf).get_fdata()\n",
    "    lesion_dice = utils.dice_score(lab_data, inf_data, seg1_val=1, seg2_val=1)\n",
    "    prl_dice = utils.dice_score(lab_data, inf_data, seg1_val=2, seg2_val=2)\n",
    "\n",
    "    data['subid'].append(sub)\n",
    "    data['prl_dice'].append(prl_dice)\n",
    "    data['lesion_dice'].append(lesion_dice)\n",
    "    data['nPRL'].append(prl_info.loc[sub, \"Total PRL\"])\n",
    "\n",
    "df_pred = pd.DataFrame(data)\n",
    "df_pred.set_index(\"subid\", inplace=True)\n",
    "df_pred = df_pred[['nPRL', 'prl_dice', 'lesion_dice']]"
   ]
  },
  {
   "cell_type": "code",
   "execution_count": 29,
   "id": "4577d303",
   "metadata": {},
   "outputs": [
    {
     "name": "stdout",
     "output_type": "stream",
     "text": [
      "lesion dice: 0.81\n",
      "PRL    dice: 0.53\n"
     ]
    }
   ],
   "source": [
    "print(\"lesion dice: {:0.2f}\".format(df_pred['lesion_dice'].mean()))\n",
    "print(\"PRL    dice: {:0.2f}\".format(df_pred['prl_dice'].mean()))"
   ]
  },
  {
   "cell_type": "code",
   "execution_count": 32,
   "id": "ea8275d1",
   "metadata": {},
   "outputs": [
    {
     "data": {
      "application/vnd.microsoft.datawrangler.viewer.v0+json": {
       "columns": [
        {
         "name": "subid",
         "rawType": "int64",
         "type": "integer"
        },
        {
         "name": "nPRL",
         "rawType": "int64",
         "type": "integer"
        },
        {
         "name": "prl_dice",
         "rawType": "float64",
         "type": "float"
        },
        {
         "name": "lesion_dice",
         "rawType": "float64",
         "type": "float"
        }
       ],
       "ref": "dd31474b-d6f1-47a9-a60e-52e066484c7b",
       "rows": [
        [
         "1183",
         "4",
         "0.7341069626639758",
         "0.8170322580645162"
        ],
        [
         "1281",
         "7",
         "0.28185208203853324",
         "0.7661643719431173"
        ],
        [
         "2115",
         "1",
         "0.057955166757791145",
         "0.8359723079032148"
        ],
        [
         "1136",
         "2",
         "0.0",
         "0.8001169761661061"
        ],
        [
         "1523",
         "2",
         "0.461510726518839",
         "0.7955367501535522"
        ],
        [
         "1274",
         "2",
         "0.13142485361093037",
         "0.8703886025366305"
        ],
        [
         "2131",
         "1",
         "0.9158746920098557",
         "0.8972684085510689"
        ],
        [
         "1152",
         "2",
         "0.6358974358974359",
         "0.7959898859956528"
        ],
        [
         "2207",
         "1",
         "0.0",
         "0.7296389588581025"
        ],
        [
         "1124",
         "1",
         "0.8052863436123348",
         "0.8519884866420724"
        ],
        [
         "1044",
         "2",
         "0.4795417348608838",
         "0.7881761006289308"
        ],
        [
         "1316",
         "2",
         "0.26724975704567544",
         "0.8705785717952667"
        ],
        [
         "1033",
         "1",
         "0.7480417754569191",
         "0.7985105502689285"
        ],
        [
         "1131",
         "1",
         "0.9766839378238342",
         "0.7531070745697896"
        ],
        [
         "2060",
         "2",
         "0.7498956158663883",
         "0.7954604884681763"
        ],
        [
         "1156",
         "2",
         "0.1970074812967581",
         "0.8886378878260562"
        ]
       ],
       "shape": {
        "columns": 3,
        "rows": 16
       }
      },
      "text/html": [
       "<div>\n",
       "<style scoped>\n",
       "    .dataframe tbody tr th:only-of-type {\n",
       "        vertical-align: middle;\n",
       "    }\n",
       "\n",
       "    .dataframe tbody tr th {\n",
       "        vertical-align: top;\n",
       "    }\n",
       "\n",
       "    .dataframe thead th {\n",
       "        text-align: right;\n",
       "    }\n",
       "</style>\n",
       "<table border=\"1\" class=\"dataframe\">\n",
       "  <thead>\n",
       "    <tr style=\"text-align: right;\">\n",
       "      <th></th>\n",
       "      <th>nPRL</th>\n",
       "      <th>prl_dice</th>\n",
       "      <th>lesion_dice</th>\n",
       "    </tr>\n",
       "    <tr>\n",
       "      <th>subid</th>\n",
       "      <th></th>\n",
       "      <th></th>\n",
       "      <th></th>\n",
       "    </tr>\n",
       "  </thead>\n",
       "  <tbody>\n",
       "    <tr>\n",
       "      <th>1183</th>\n",
       "      <td>4</td>\n",
       "      <td>0.734107</td>\n",
       "      <td>0.817032</td>\n",
       "    </tr>\n",
       "    <tr>\n",
       "      <th>1281</th>\n",
       "      <td>7</td>\n",
       "      <td>0.281852</td>\n",
       "      <td>0.766164</td>\n",
       "    </tr>\n",
       "    <tr>\n",
       "      <th>2115</th>\n",
       "      <td>1</td>\n",
       "      <td>0.057955</td>\n",
       "      <td>0.835972</td>\n",
       "    </tr>\n",
       "    <tr>\n",
       "      <th>1136</th>\n",
       "      <td>2</td>\n",
       "      <td>0.000000</td>\n",
       "      <td>0.800117</td>\n",
       "    </tr>\n",
       "    <tr>\n",
       "      <th>1523</th>\n",
       "      <td>2</td>\n",
       "      <td>0.461511</td>\n",
       "      <td>0.795537</td>\n",
       "    </tr>\n",
       "    <tr>\n",
       "      <th>1274</th>\n",
       "      <td>2</td>\n",
       "      <td>0.131425</td>\n",
       "      <td>0.870389</td>\n",
       "    </tr>\n",
       "    <tr>\n",
       "      <th>2131</th>\n",
       "      <td>1</td>\n",
       "      <td>0.915875</td>\n",
       "      <td>0.897268</td>\n",
       "    </tr>\n",
       "    <tr>\n",
       "      <th>1152</th>\n",
       "      <td>2</td>\n",
       "      <td>0.635897</td>\n",
       "      <td>0.795990</td>\n",
       "    </tr>\n",
       "    <tr>\n",
       "      <th>2207</th>\n",
       "      <td>1</td>\n",
       "      <td>0.000000</td>\n",
       "      <td>0.729639</td>\n",
       "    </tr>\n",
       "    <tr>\n",
       "      <th>1124</th>\n",
       "      <td>1</td>\n",
       "      <td>0.805286</td>\n",
       "      <td>0.851988</td>\n",
       "    </tr>\n",
       "    <tr>\n",
       "      <th>1044</th>\n",
       "      <td>2</td>\n",
       "      <td>0.479542</td>\n",
       "      <td>0.788176</td>\n",
       "    </tr>\n",
       "    <tr>\n",
       "      <th>1316</th>\n",
       "      <td>2</td>\n",
       "      <td>0.267250</td>\n",
       "      <td>0.870579</td>\n",
       "    </tr>\n",
       "    <tr>\n",
       "      <th>1033</th>\n",
       "      <td>1</td>\n",
       "      <td>0.748042</td>\n",
       "      <td>0.798511</td>\n",
       "    </tr>\n",
       "    <tr>\n",
       "      <th>1131</th>\n",
       "      <td>1</td>\n",
       "      <td>0.976684</td>\n",
       "      <td>0.753107</td>\n",
       "    </tr>\n",
       "    <tr>\n",
       "      <th>2060</th>\n",
       "      <td>2</td>\n",
       "      <td>0.749896</td>\n",
       "      <td>0.795460</td>\n",
       "    </tr>\n",
       "    <tr>\n",
       "      <th>1156</th>\n",
       "      <td>2</td>\n",
       "      <td>0.197007</td>\n",
       "      <td>0.888638</td>\n",
       "    </tr>\n",
       "  </tbody>\n",
       "</table>\n",
       "</div>"
      ],
      "text/plain": [
       "       nPRL  prl_dice  lesion_dice\n",
       "subid                             \n",
       "1183      4  0.734107     0.817032\n",
       "1281      7  0.281852     0.766164\n",
       "2115      1  0.057955     0.835972\n",
       "1136      2  0.000000     0.800117\n",
       "1523      2  0.461511     0.795537\n",
       "1274      2  0.131425     0.870389\n",
       "2131      1  0.915875     0.897268\n",
       "1152      2  0.635897     0.795990\n",
       "2207      1  0.000000     0.729639\n",
       "1124      1  0.805286     0.851988\n",
       "1044      2  0.479542     0.788176\n",
       "1316      2  0.267250     0.870579\n",
       "1033      1  0.748042     0.798511\n",
       "1131      1  0.976684     0.753107\n",
       "2060      2  0.749896     0.795460\n",
       "1156      2  0.197007     0.888638"
      ]
     },
     "execution_count": 32,
     "metadata": {},
     "output_type": "execute_result"
    }
   ],
   "source": [
    "df_pred"
   ]
  },
  {
   "cell_type": "code",
   "execution_count": 42,
   "id": "1300542e",
   "metadata": {},
   "outputs": [
    {
     "name": "stdout",
     "output_type": "stream",
     "text": [
      "PRL's: 2\n"
     ]
    },
    {
     "data": {
      "text/plain": [
       "<Popen: returncode: None args: ['itksnap', '-g', '/media/smbshare/3Tpioneer_...>"
      ]
     },
     "execution_count": 42,
     "metadata": {},
     "output_type": "execute_result"
    }
   ],
   "source": [
    "subid = 1136\n",
    "print(f\"PRL's: {prl_info.loc[subid, \"Total PRL\"]}\")\n",
    "\n",
    "ind = subjects.index(f\"sub-ms{subid}\")\n",
    "# ind = 5\n",
    "ground_truth = labels[ind]\n",
    "inf = inferences[ind]\n",
    "image_dir = Path(ground_truth).parent.parent\n",
    "lesion_dir = Path(ground_truth).parent\n",
    "\n",
    "additional_labels = []\n",
    "additional_labels = [lesion_dir / lab for lab in additional_labels]\n",
    "\n",
    "images = [\"flair.nii.gz\", \"phase.nii.gz\", \"t1.nii.gz\"]\n",
    "image_paths = [image_dir / im for im in images]\n",
    "\n",
    "label_paths = [inf, ground_truth] + additional_labels\n",
    "\n",
    "cmd = utils.open_itksnap_workspace_cmd(image_paths, label_paths, win=False)\n",
    "# print(cmd)\n",
    "pyperclip.copy(cmd)\n",
    "subprocess.Popen(cmd.split(\" \"))"
   ]
  },
  {
   "cell_type": "code",
   "execution_count": 34,
   "id": "0a5b202c",
   "metadata": {},
   "outputs": [],
   "source": [
    "def get_performance2(lab, inf):\n",
    "    TP = np.sum((lab == 2) & (inf == 2))\n",
    "    FP = np.sum((lab == 1) & (inf == 2))\n",
    "    TN = np.sum((lab == 1) & (inf == 1))\n",
    "    FN = np.sum((lab == 2) & (inf == 1))\n",
    "    return TP, FP, TN, FN"
   ]
  },
  {
   "cell_type": "code",
   "execution_count": 35,
   "id": "ffac5688",
   "metadata": {},
   "outputs": [],
   "source": [
    "TP_total = 0\n",
    "FP_total = 0\n",
    "TN_total = 0\n",
    "FN_total = 0\n",
    "for lab, inf in zip(labels, inferences):\n",
    "    lab_data = nib.load(lab).get_fdata()\n",
    "    inf_data = nib.load(inf).get_fdata()\n",
    "    TP, FP, TN, FN = get_performance2(lab_data, inf_data)\n",
    "    TP_total += TP\n",
    "    FP_total += FP\n",
    "    TN_total += TN\n",
    "    FN_total += FN"
   ]
  },
  {
   "cell_type": "markdown",
   "id": "7fd675be",
   "metadata": {},
   "source": [
    "When there is a PRL, it has a 50% chance of identifying it. When it's not a PRL, it will most likely identify it correctly. So it's better than chance overall"
   ]
  },
  {
   "cell_type": "code",
   "execution_count": 36,
   "id": "ba618bec",
   "metadata": {},
   "outputs": [
    {
     "name": "stdout",
     "output_type": "stream",
     "text": [
      "Sensitivity: 0.5253\n",
      "Specificity: 0.9629\n",
      "PPV:         0.6354\n",
      "NPV:         0.9429\n"
     ]
    }
   ],
   "source": [
    "sens = TP_total / (TP_total + FN_total)\n",
    "spec = TN_total / (TN_total + FP_total)\n",
    "ppv = TP_total / (TP_total + FP_total)\n",
    "npv = TN_total / (TN_total + FN_total)\n",
    "\n",
    "print(\"Sensitivity: {:0.4f}\".format(sens))\n",
    "print(\"Specificity: {:0.4f}\".format(spec))\n",
    "print(\"PPV:         {:0.4f}\".format(ppv))\n",
    "print(\"NPV:         {:0.4f}\".format(npv))"
   ]
  }
 ],
 "metadata": {
  "kernelspec": {
   "display_name": "monai",
   "language": "python",
   "name": "python3"
  },
  "language_info": {
   "codemirror_mode": {
    "name": "ipython",
    "version": 3
   },
   "file_extension": ".py",
   "mimetype": "text/x-python",
   "name": "python",
   "nbconvert_exporter": "python",
   "pygments_lexer": "ipython3",
   "version": "3.12.7"
  }
 },
 "nbformat": 4,
 "nbformat_minor": 5
}
