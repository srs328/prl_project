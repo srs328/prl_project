{
 "cells": [
  {
   "cell_type": "code",
   "execution_count": 21,
   "id": "16520926",
   "metadata": {},
   "outputs": [],
   "source": [
    "from pathlib import Path\n",
    "from mri_data import utils\n",
    "import nibabel as nib\n",
    "import os\n",
    "import json\n",
    "import re\n",
    "import statistics\n",
    "import numpy as np\n",
    "import pyperclip\n",
    "import subprocess\n",
    "from mri_data import file_manager as fm\n",
    "import pandas as pd"
   ]
  },
  {
   "cell_type": "code",
   "execution_count": 22,
   "id": "a209f40b",
   "metadata": {},
   "outputs": [],
   "source": [
    "drive_root = fm.get_drive_root()\n",
    "dataroot = drive_root / \"3Tpioneer_bids\"\n",
    "# training_work_home = Path(\"/home/srs-9/Projects/prl_project/training_work_dirs\")\n",
    "training_work_home = drive_root / \"srs-9/prl_project/training_work_dirs\"\n",
    "work_dir = training_work_home / \"test_train0_swinunet\" #! edit this\n",
    "ensemble_dir = work_dir / \"ensemble_output\"\n",
    "datalist_file = work_dir / \"datalist.json\"\n",
    "\n",
    "prl_info = pd.read_csv(\"/home/srs-9/Projects/prl_project/data/PRL_labels.csv\")\n",
    "\n",
    "def subid_from_subject(subject):\n",
    "    return int(re.search(r\"(\\d{4})\", subject)[1])\n",
    "prl_info['subid'] = prl_info['ID'].map(subid_from_subject)\n",
    "prl_info.set_index(\"subid\", inplace=True)"
   ]
  },
  {
   "cell_type": "code",
   "execution_count": 3,
   "id": "849a8d20",
   "metadata": {},
   "outputs": [],
   "source": [
    "with open(datalist_file, 'r') as f:\n",
    "    datalist = json.load(f)\n",
    "\n",
    "inferences = []\n",
    "labels = []\n",
    "subjects = []\n",
    "for item in datalist['testing']:\n",
    "    label = str(drive_root / Path(item['label']).relative_to(\"/media/smbshare\"))\n",
    "    assert os.path.exists(label)\n",
    "    labels.append(label)\n",
    "    subject = re.search(r\"(sub-ms\\d{4})\", label)[1]\n",
    "    subjects.append(subject)\n",
    "    session = re.search(r\"(ses-\\d{8})\", label)[1]\n",
    "    inf = ensemble_dir / subject / session / \"flair.phase.t1_ensemble.nii.gz\"\n",
    "    assert inf.exists()\n",
    "    inferences.append(str(inf))"
   ]
  },
  {
   "cell_type": "code",
   "execution_count": 6,
   "id": "03798410",
   "metadata": {},
   "outputs": [
    {
     "name": "stdout",
     "output_type": "stream",
     "text": [
      "sub-ms1183\n",
      "sub-ms1281\n",
      "sub-ms2115\n",
      "sub-ms1136\n",
      "sub-ms1523\n",
      "sub-ms1274\n",
      "sub-ms2131\n",
      "sub-ms1152\n",
      "sub-ms2207\n",
      "sub-ms1124\n",
      "sub-ms1044\n",
      "sub-ms1316\n",
      "sub-ms1033\n",
      "sub-ms1131\n",
      "sub-ms2060\n",
      "sub-ms1156\n"
     ]
    }
   ],
   "source": [
    "for sub in subjects:\n",
    "    print(sub)"
   ]
  },
  {
   "cell_type": "code",
   "execution_count": 17,
   "id": "f80e619a",
   "metadata": {},
   "outputs": [],
   "source": [
    "lesion_dice_scores = []\n",
    "prl_dice_scores = []\n",
    "for lab, inf in zip(labels, inferences):\n",
    "    lab_data = nib.load(lab).get_fdata()\n",
    "    inf_data = nib.load(inf).get_fdata()\n",
    "    lesion_dice_scores.append(utils.dice_score(lab_data, inf_data, seg1_val=1, seg2_val=1))\n",
    "    prl_dice_scores.append(utils.dice_score(lab_data, inf_data, seg1_val=2, seg2_val=2))"
   ]
  },
  {
   "cell_type": "code",
   "execution_count": 23,
   "id": "4577d303",
   "metadata": {},
   "outputs": [
    {
     "name": "stdout",
     "output_type": "stream",
     "text": [
      "lesion dice: 0.82\n",
      "PRL    dice: 0.47\n"
     ]
    }
   ],
   "source": [
    "print(\"lesion dice: {:0.2f}\".format(statistics.mean(lesion_dice_scores)))\n",
    "print(\"PRL    dice: {:0.2f}\".format(statistics.mean(prl_dice_scores)))"
   ]
  },
  {
   "cell_type": "code",
   "execution_count": 10,
   "id": "4333105e",
   "metadata": {},
   "outputs": [],
   "source": [
    "def analyze_performance(lab, inf, val=1):\n",
    "    TP = np.sum((lab == val) & (inf == val))\n",
    "    FP = np.sum((lab != val) & (inf == val))\n",
    "    TN = np.sum((lab != val) & (inf != val))\n",
    "    FN = np.sum((lab == val) & (inf != val))\n",
    "\n",
    "    sens = TP / (TP + FN)\n",
    "    spec = TN / (TN + FP)\n",
    "    ppv = TP / (TP + FP)\n",
    "    npv = TN / (TN + FN)\n",
    "\n",
    "    return {'sens': sens, 'spec': spec, 'ppv': ppv, 'npv': npv}"
   ]
  },
  {
   "cell_type": "code",
   "execution_count": 11,
   "id": "b1728f09",
   "metadata": {},
   "outputs": [],
   "source": [
    "performance = []\n",
    "for lab, inf in zip(labels, inferences):\n",
    "    lab_data = nib.load(lab).get_fdata()\n",
    "    inf_data = nib.load(inf).get_fdata()\n",
    "    performance.append(analyze_performance(lab_data, inf_data, val=2))"
   ]
  },
  {
   "cell_type": "code",
   "execution_count": 25,
   "id": "7bb319e2",
   "metadata": {},
   "outputs": [
    {
     "data": {
      "text/plain": [
       "{'sens': 0.17158531971244798,\n",
       " 'spec': 0.9999887472462011,\n",
       " 'ppv': 0.788695652173913,\n",
       " 'npv': 0.9997972577243696}"
      ]
     },
     "execution_count": 25,
     "metadata": {},
     "output_type": "execute_result"
    }
   ],
   "source": [
    "performance[1]"
   ]
  },
  {
   "cell_type": "code",
   "execution_count": null,
   "id": "e64cf798",
   "metadata": {},
   "outputs": [],
   "source": [
    "def get_performance1(lab, inf, val=1):\n",
    "    TP = np.sum((lab == val) & (inf == val))\n",
    "    FP = np.sum((lab != val) & (inf == val))\n",
    "    TN = np.sum((lab != val) & (inf != val))\n",
    "    FN = np.sum((lab == val) & (inf != val))\n",
    "    return TP, FP, TN, FN"
   ]
  },
  {
   "cell_type": "code",
   "execution_count": null,
   "id": "bcc4a97d",
   "metadata": {},
   "outputs": [],
   "source": [
    "TP_total = 0\n",
    "FP_total = 0\n",
    "TN_total = 0\n",
    "FN_total = 0\n",
    "for lab, inf in zip(labels, inferences):\n",
    "    lab_data = nib.load(lab).get_fdata()\n",
    "    inf_data = nib.load(inf).get_fdata()\n",
    "    TP, FP, TN, FN = get_performance1(lab_data, inf_data, val=2)\n",
    "    TP_total += TP\n",
    "    FP_total += FP\n",
    "    TN_total += TN\n",
    "    FN_total += FN"
   ]
  },
  {
   "cell_type": "code",
   "execution_count": 19,
   "id": "54945d5a",
   "metadata": {},
   "outputs": [
    {
     "name": "stdout",
     "output_type": "stream",
     "text": [
      "Sensitivity: 0.4661\n",
      "Specificity: 1.0000\n",
      "PPV:         0.5428\n",
      "NPV:         1.0000\n"
     ]
    }
   ],
   "source": [
    "sens = TP_total / (TP_total + FN_total)\n",
    "spec = TN_total / (TN_total + FP_total)\n",
    "ppv = TP_total / (TP_total + FP_total)\n",
    "npv = TN_total / (TN_total + FN_total)\n",
    "\n",
    "print(\"Sensitivity: {:0.4f}\".format(sens))\n",
    "print(\"Specificity: {:0.4f}\".format(spec))\n",
    "print(\"PPV:         {:0.4f}\".format(ppv))\n",
    "print(\"NPV:         {:0.4f}\".format(npv))"
   ]
  },
  {
   "cell_type": "code",
   "execution_count": 26,
   "id": "0a5b202c",
   "metadata": {},
   "outputs": [],
   "source": [
    "def get_performance2(lab, inf):\n",
    "    TP = np.sum((lab == 2) & (inf == 2))\n",
    "    FP = np.sum((lab == 1) & (inf == 2))\n",
    "    TN = np.sum((lab == 1) & (inf == 1))\n",
    "    FN = np.sum((lab == 2) & (inf == 1))\n",
    "    return TP, FP, TN, FN"
   ]
  },
  {
   "cell_type": "code",
   "execution_count": 27,
   "id": "ffac5688",
   "metadata": {},
   "outputs": [],
   "source": [
    "TP_total = 0\n",
    "FP_total = 0\n",
    "TN_total = 0\n",
    "FN_total = 0\n",
    "for lab, inf in zip(labels, inferences):\n",
    "    lab_data = nib.load(lab).get_fdata()\n",
    "    inf_data = nib.load(inf).get_fdata()\n",
    "    TP, FP, TN, FN = get_performance2(lab_data, inf_data)\n",
    "    TP_total += TP\n",
    "    FP_total += FP\n",
    "    TN_total += TN\n",
    "    FN_total += FN"
   ]
  },
  {
   "cell_type": "code",
   "execution_count": 28,
   "id": "ba618bec",
   "metadata": {},
   "outputs": [
    {
     "name": "stdout",
     "output_type": "stream",
     "text": [
      "Sensitivity: 0.4962\n",
      "Specificity: 0.9558\n",
      "PPV:         0.5802\n",
      "NPV:         0.9391\n"
     ]
    }
   ],
   "source": [
    "sens = TP_total / (TP_total + FN_total)\n",
    "spec = TN_total / (TN_total + FP_total)\n",
    "ppv = TP_total / (TP_total + FP_total)\n",
    "npv = TN_total / (TN_total + FN_total)\n",
    "\n",
    "print(\"Sensitivity: {:0.4f}\".format(sens))\n",
    "print(\"Specificity: {:0.4f}\".format(spec))\n",
    "print(\"PPV:         {:0.4f}\".format(ppv))\n",
    "print(\"NPV:         {:0.4f}\".format(npv))"
   ]
  },
  {
   "cell_type": "code",
   "execution_count": 24,
   "id": "622ce17c",
   "metadata": {},
   "outputs": [
    {
     "name": "stdout",
     "output_type": "stream",
     "text": [
      "7\n",
      "itksnap -g H:/3Tpioneer_bids/sub-ms1281/ses-20180705/flair.nii.gz -o H:/3Tpioneer_bids/sub-ms1281/ses-20180705/phase.nii.gz H:/3Tpioneer_bids/sub-ms1281/ses-20180705/t1.nii.gz -s H:/srs-9/prl_project/training_work_dirs/test_train0_swinunet/ensemble_output/sub-ms1281/ses-20180705/flair.phase.t1_ensemble.nii.gz H:/3Tpioneer_bids/sub-ms1281/ses-20180705/lesion.t3m20/lesion_and_prl_labels_tmp.nii.gz\n"
     ]
    }
   ],
   "source": [
    "subid = 1281\n",
    "print(prl_info.loc[subid, \"Total PRL\"])\n",
    "\n",
    "ind = subjects.index(f\"sub-ms{subid}\")\n",
    "# ind = 5\n",
    "ground_truth = labels[ind]\n",
    "inf = inferences[ind]\n",
    "image_dir = Path(ground_truth).parent.parent\n",
    "\n",
    "images = [\"flair.nii.gz\", \"phase.nii.gz\", \"t1.nii.gz\"]\n",
    "image_paths = [image_dir / im for im in images]\n",
    "\n",
    "label_paths = [inf, ground_truth]\n",
    "\n",
    "cmd = utils.open_itksnap_workspace_cmd(image_paths, label_paths, win=True)\n",
    "print(cmd)\n",
    "pyperclip.copy(cmd)\n",
    "# subprocess.Popen(cmd.split(\" \"))"
   ]
  },
  {
   "cell_type": "code",
   "execution_count": 40,
   "id": "a6b8fe27",
   "metadata": {},
   "outputs": [
    {
     "data": {
      "text/plain": [
       "{'sens': 0.08022239872915012,\n",
       " 'spec': 5.3614236126077904e-05,\n",
       " 'ppv': 0.36330935251798563,\n",
       " 'npv': 0.9999463881988851}"
      ]
     },
     "execution_count": 40,
     "metadata": {},
     "output_type": "execute_result"
    }
   ],
   "source": [
    "performance[5]"
   ]
  },
  {
   "cell_type": "code",
   "execution_count": 41,
   "id": "b7c7b2cd",
   "metadata": {},
   "outputs": [
    {
     "data": {
      "text/plain": [
       "'/media/smbshare/3Tpioneer_bids/sub-ms1274/ses-20180504/lesion.t3m20/lesion_and_prl_labels_tmp.nii.gz'"
      ]
     },
     "execution_count": 41,
     "metadata": {},
     "output_type": "execute_result"
    }
   ],
   "source": [
    "labels[5]"
   ]
  },
  {
   "cell_type": "code",
   "execution_count": 39,
   "id": "66481a2f",
   "metadata": {},
   "outputs": [
    {
     "data": {
      "text/plain": [
       "['/media/smbshare/3Tpioneer_bids/sub-ms1183/ses-20170328/lesion.t3m20/lesion_and_prl_labels_tmp.nii.gz',\n",
       " '/media/smbshare/3Tpioneer_bids/sub-ms1281/ses-20180705/lesion.t3m20/lesion_and_prl_labels_tmp.nii.gz',\n",
       " '/media/smbshare/3Tpioneer_bids/sub-ms2115/ses-20180530/lesion.t3m20/lesion_and_prl_labels_tmp.nii.gz',\n",
       " '/media/smbshare/3Tpioneer_bids/sub-ms1136/ses-20171109/lesion.t3m20/lesion_and_prl_labels_tmp.nii.gz',\n",
       " '/media/smbshare/3Tpioneer_bids/sub-ms1523/ses-20170422/lesion.t3m20/lesion_and_prl_labels_tmp.nii.gz',\n",
       " '/media/smbshare/3Tpioneer_bids/sub-ms1274/ses-20180504/lesion.t3m20/lesion_and_prl_labels_tmp.nii.gz',\n",
       " '/media/smbshare/3Tpioneer_bids/sub-ms2131/ses-20190117/lesion.t3m20/lesion_and_prl_labels_tmp.nii.gz',\n",
       " '/media/smbshare/3Tpioneer_bids/sub-ms1152/ses-20170529/lesion.t3m20/lesion_and_prl_labels_tmp.nii.gz',\n",
       " '/media/smbshare/3Tpioneer_bids/sub-ms2207/ses-20180717/lesion.t3m20/lesion_and_prl_labels_tmp.nii.gz',\n",
       " '/media/smbshare/3Tpioneer_bids/sub-ms1124/ses-20160929/lesion.t3m20/lesion_and_prl_labels_tmp.nii.gz',\n",
       " '/media/smbshare/3Tpioneer_bids/sub-ms1044/ses-20170317/lesion.t3m20/lesion_and_prl_labels_tmp.nii.gz',\n",
       " '/media/smbshare/3Tpioneer_bids/sub-ms1316/ses-20180810/lesion.t3m20/lesion_and_prl_labels_tmp.nii.gz',\n",
       " '/media/smbshare/3Tpioneer_bids/sub-ms1033/ses-20171117/lesion.t3m20/lesion_and_prl_labels_tmp.nii.gz',\n",
       " '/media/smbshare/3Tpioneer_bids/sub-ms1131/ses-20161209/lesion.t3m20/lesion_and_prl_labels_tmp.nii.gz',\n",
       " '/media/smbshare/3Tpioneer_bids/sub-ms2060/ses-20170608/lesion.t3m20/lesion_and_prl_labels_tmp.nii.gz',\n",
       " '/media/smbshare/3Tpioneer_bids/sub-ms1156/ses-20170404/lesion.t3m20/lesion_and_prl_labels_tmp.nii.gz']"
      ]
     },
     "execution_count": 39,
     "metadata": {},
     "output_type": "execute_result"
    }
   ],
   "source": [
    "labels"
   ]
  }
 ],
 "metadata": {
  "kernelspec": {
   "display_name": "monai",
   "language": "python",
   "name": "python3"
  },
  "language_info": {
   "codemirror_mode": {
    "name": "ipython",
    "version": 3
   },
   "file_extension": ".py",
   "mimetype": "text/x-python",
   "name": "python",
   "nbconvert_exporter": "python",
   "pygments_lexer": "ipython3",
   "version": "3.12.4"
  }
 },
 "nbformat": 4,
 "nbformat_minor": 5
}
