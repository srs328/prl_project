{
 "cells": [
  {
   "cell_type": "code",
   "execution_count": 11,
   "id": "16520926",
   "metadata": {},
   "outputs": [],
   "source": [
    "from pathlib import Path\n",
    "from mri_data import utils\n",
    "import nibabel as nib\n",
    "import os\n",
    "import json\n",
    "import re\n",
    "import statistics\n",
    "import numpy as np\n",
    "import pyperclip\n",
    "import subprocess"
   ]
  },
  {
   "cell_type": "code",
   "execution_count": 3,
   "id": "a209f40b",
   "metadata": {},
   "outputs": [],
   "source": [
    "dataroot = Path(\"/media/smbshare/3Tpioneer_bids\")\n",
    "training_work_home = Path(\"/home/srs-9/Projects/prl_project/training_work_dirs\")\n",
    "work_dir = training_work_home / \"test_train0_swinunet\" #! edit this\n",
    "ensemble_dir = work_dir / \"ensemble_output\"\n",
    "datalist_file_src = os.path.join(os.getcwd(), \"datalist.json\")\n",
    "datalist_file = work_dir / \"datalist.json\""
   ]
  },
  {
   "cell_type": "code",
   "execution_count": 22,
   "id": "849a8d20",
   "metadata": {},
   "outputs": [],
   "source": [
    "with open(datalist_file, 'r') as f:\n",
    "    datalist = json.load(f)\n",
    "\n",
    "inferences = []\n",
    "labels = []\n",
    "subjects = []\n",
    "for item in datalist['testing']:\n",
    "    label = str(item['label'])\n",
    "    assert os.path.exists(label)\n",
    "    labels.append(label)\n",
    "    subject = re.search(r\"(sub-ms\\d{4})\", label)[1]\n",
    "    subjects.append(subject)\n",
    "    session = re.search(r\"(ses-\\d{8})\", label)[1]\n",
    "    inf = ensemble_dir / subject / session / \"flair.phase.t1_ensemble.nii.gz\"\n",
    "    assert inf.exists()\n",
    "    inferences.append(str(inf))"
   ]
  },
  {
   "cell_type": "code",
   "execution_count": 6,
   "id": "03798410",
   "metadata": {},
   "outputs": [
    {
     "name": "stdout",
     "output_type": "stream",
     "text": [
      "sub-ms1183\n",
      "sub-ms1281\n",
      "sub-ms2115\n",
      "sub-ms1136\n",
      "sub-ms1523\n",
      "sub-ms1274\n",
      "sub-ms2131\n",
      "sub-ms1152\n",
      "sub-ms2207\n",
      "sub-ms1124\n",
      "sub-ms1044\n",
      "sub-ms1316\n",
      "sub-ms1033\n",
      "sub-ms1131\n",
      "sub-ms2060\n",
      "sub-ms1156\n"
     ]
    }
   ],
   "source": [
    "for sub in subjects:\n",
    "    print(sub)"
   ]
  },
  {
   "cell_type": "code",
   "execution_count": 17,
   "id": "f80e619a",
   "metadata": {},
   "outputs": [],
   "source": [
    "lesion_dice_scores = []\n",
    "prl_dice_scores = []\n",
    "for lab, inf in zip(labels, inferences):\n",
    "    lab_data = nib.load(lab).get_fdata()\n",
    "    inf_data = nib.load(inf).get_fdata()\n",
    "    lesion_dice_scores.append(utils.dice_score(lab_data, inf_data, seg1_val=1, seg2_val=1))\n",
    "    prl_dice_scores.append(utils.dice_score(lab_data, inf_data, seg1_val=2, seg2_val=2))"
   ]
  },
  {
   "cell_type": "code",
   "execution_count": 23,
   "id": "4577d303",
   "metadata": {},
   "outputs": [
    {
     "name": "stdout",
     "output_type": "stream",
     "text": [
      "lesion dice: 0.82\n",
      "PRL    dice: 0.47\n"
     ]
    }
   ],
   "source": [
    "print(\"lesion dice: {:0.2f}\".format(statistics.mean(lesion_dice_scores)))\n",
    "print(\"PRL    dice: {:0.2f}\".format(statistics.mean(prl_dice_scores)))"
   ]
  },
  {
   "cell_type": "code",
   "execution_count": 25,
   "id": "4333105e",
   "metadata": {},
   "outputs": [],
   "source": [
    "def analyze_performance(lab, inf, val=1):\n",
    "    TP = np.sum((lab == val) & (inf == val))\n",
    "    FP = np.sum((lab != val) & (inf == val))\n",
    "    TN = np.sum((lab != val) & (inf != val))\n",
    "    FN = np.sum((lab == val) & (inf != val))\n",
    "\n",
    "    sens = TP / (TP + FN)\n",
    "    spec = FN / (TN + FP)\n",
    "    ppv = TP / (TP + FP)\n",
    "    npv = TN / (TN + FN)\n",
    "\n",
    "    return {'sens': sens, 'spec': spec, 'ppv': ppv, 'npv': npv}"
   ]
  },
  {
   "cell_type": "code",
   "execution_count": 29,
   "id": "b1728f09",
   "metadata": {},
   "outputs": [],
   "source": [
    "performance = []\n",
    "for lab, inf in zip(labels, inferences):\n",
    "    lab_data = nib.load(lab).get_fdata()\n",
    "    inf_data = nib.load(inf).get_fdata()\n",
    "    performance.append(analyze_performance(lab_data, inf_data, val=2))"
   ]
  },
  {
   "cell_type": "code",
   "execution_count": 23,
   "id": "622ce17c",
   "metadata": {},
   "outputs": [
    {
     "name": "stdout",
     "output_type": "stream",
     "text": [
      "itksnap -g /media/smbshare/3Tpioneer_bids/sub-ms1274/ses-20180504/flair.nii.gz -o /media/smbshare/3Tpioneer_bids/sub-ms1274/ses-20180504/phase.nii.gz /media/smbshare/3Tpioneer_bids/sub-ms1274/ses-20180504/t1.nii.gz -s /home/srs-9/Projects/prl_project/training_work_dirs/test_train0_swinunet/ensemble_output/sub-ms1274/ses-20180504/flair.phase.t1_ensemble.nii.gz /media/smbshare/3Tpioneer_bids/sub-ms1274/ses-20180504/lesion.t3m20/lesion_and_prl_labels_tmp.nii.gz\n"
     ]
    },
    {
     "data": {
      "text/plain": [
       "<Popen: returncode: None args: ['itksnap', '-g', '/media/smbshare/3Tpioneer_...>"
      ]
     },
     "execution_count": 23,
     "metadata": {},
     "output_type": "execute_result"
    },
    {
     "name": "stdout",
     "output_type": "stream",
     "text": [
      "Launching ITK-SNAP\n"
     ]
    },
    {
     "name": "stderr",
     "output_type": "stream",
     "text": [
      "Return code : 0\n"
     ]
    }
   ],
   "source": [
    "subject = 1183\n",
    "ind = subjects.index(f\"sub-ms{subject}\")\n",
    "ind = 5\n",
    "ground_truth = labels[ind]\n",
    "inf = inferences[ind]\n",
    "image_dir = Path(ground_truth).parent.parent\n",
    "\n",
    "images = [\"flair.nii.gz\", \"phase.nii.gz\", \"t1.nii.gz\"]\n",
    "image_paths = [image_dir / im for im in images]\n",
    "\n",
    "label_paths = [inf, ground_truth]\n",
    "\n",
    "cmd = utils.open_itksnap_workspace_cmd(image_paths, label_paths, win=False)\n",
    "print(cmd)\n",
    "pyperclip.copy(cmd)\n",
    "subprocess.Popen(cmd.split(\" \"))"
   ]
  },
  {
   "cell_type": "code",
   "execution_count": 40,
   "id": "a6b8fe27",
   "metadata": {},
   "outputs": [
    {
     "data": {
      "text/plain": [
       "{'sens': 0.08022239872915012,\n",
       " 'spec': 5.3614236126077904e-05,\n",
       " 'ppv': 0.36330935251798563,\n",
       " 'npv': 0.9999463881988851}"
      ]
     },
     "execution_count": 40,
     "metadata": {},
     "output_type": "execute_result"
    }
   ],
   "source": [
    "performance[5]"
   ]
  },
  {
   "cell_type": "code",
   "execution_count": 41,
   "id": "b7c7b2cd",
   "metadata": {},
   "outputs": [
    {
     "data": {
      "text/plain": [
       "'/media/smbshare/3Tpioneer_bids/sub-ms1274/ses-20180504/lesion.t3m20/lesion_and_prl_labels_tmp.nii.gz'"
      ]
     },
     "execution_count": 41,
     "metadata": {},
     "output_type": "execute_result"
    }
   ],
   "source": [
    "labels[5]"
   ]
  },
  {
   "cell_type": "code",
   "execution_count": 39,
   "id": "66481a2f",
   "metadata": {},
   "outputs": [
    {
     "data": {
      "text/plain": [
       "['/media/smbshare/3Tpioneer_bids/sub-ms1183/ses-20170328/lesion.t3m20/lesion_and_prl_labels_tmp.nii.gz',\n",
       " '/media/smbshare/3Tpioneer_bids/sub-ms1281/ses-20180705/lesion.t3m20/lesion_and_prl_labels_tmp.nii.gz',\n",
       " '/media/smbshare/3Tpioneer_bids/sub-ms2115/ses-20180530/lesion.t3m20/lesion_and_prl_labels_tmp.nii.gz',\n",
       " '/media/smbshare/3Tpioneer_bids/sub-ms1136/ses-20171109/lesion.t3m20/lesion_and_prl_labels_tmp.nii.gz',\n",
       " '/media/smbshare/3Tpioneer_bids/sub-ms1523/ses-20170422/lesion.t3m20/lesion_and_prl_labels_tmp.nii.gz',\n",
       " '/media/smbshare/3Tpioneer_bids/sub-ms1274/ses-20180504/lesion.t3m20/lesion_and_prl_labels_tmp.nii.gz',\n",
       " '/media/smbshare/3Tpioneer_bids/sub-ms2131/ses-20190117/lesion.t3m20/lesion_and_prl_labels_tmp.nii.gz',\n",
       " '/media/smbshare/3Tpioneer_bids/sub-ms1152/ses-20170529/lesion.t3m20/lesion_and_prl_labels_tmp.nii.gz',\n",
       " '/media/smbshare/3Tpioneer_bids/sub-ms2207/ses-20180717/lesion.t3m20/lesion_and_prl_labels_tmp.nii.gz',\n",
       " '/media/smbshare/3Tpioneer_bids/sub-ms1124/ses-20160929/lesion.t3m20/lesion_and_prl_labels_tmp.nii.gz',\n",
       " '/media/smbshare/3Tpioneer_bids/sub-ms1044/ses-20170317/lesion.t3m20/lesion_and_prl_labels_tmp.nii.gz',\n",
       " '/media/smbshare/3Tpioneer_bids/sub-ms1316/ses-20180810/lesion.t3m20/lesion_and_prl_labels_tmp.nii.gz',\n",
       " '/media/smbshare/3Tpioneer_bids/sub-ms1033/ses-20171117/lesion.t3m20/lesion_and_prl_labels_tmp.nii.gz',\n",
       " '/media/smbshare/3Tpioneer_bids/sub-ms1131/ses-20161209/lesion.t3m20/lesion_and_prl_labels_tmp.nii.gz',\n",
       " '/media/smbshare/3Tpioneer_bids/sub-ms2060/ses-20170608/lesion.t3m20/lesion_and_prl_labels_tmp.nii.gz',\n",
       " '/media/smbshare/3Tpioneer_bids/sub-ms1156/ses-20170404/lesion.t3m20/lesion_and_prl_labels_tmp.nii.gz']"
      ]
     },
     "execution_count": 39,
     "metadata": {},
     "output_type": "execute_result"
    }
   ],
   "source": [
    "labels"
   ]
  }
 ],
 "metadata": {
  "kernelspec": {
   "display_name": "monai",
   "language": "python",
   "name": "python3"
  },
  "language_info": {
   "codemirror_mode": {
    "name": "ipython",
    "version": 3
   },
   "file_extension": ".py",
   "mimetype": "text/x-python",
   "name": "python",
   "nbconvert_exporter": "python",
   "pygments_lexer": "ipython3",
   "version": "3.12.7"
  }
 },
 "nbformat": 4,
 "nbformat_minor": 5
}
