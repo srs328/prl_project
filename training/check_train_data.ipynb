{
 "cells": [
  {
   "cell_type": "code",
   "execution_count": 13,
   "id": "c7b44814",
   "metadata": {},
   "outputs": [],
   "source": [
    "from pathlib import Path\n",
    "from mri_data import utils\n",
    "import nibabel as nib\n",
    "import os\n",
    "import json\n",
    "import re\n",
    "import statistics\n",
    "import numpy as np\n",
    "import pyperclip\n",
    "import subprocess\n",
    "import pandas as pd"
   ]
  },
  {
   "cell_type": "code",
   "execution_count": 15,
   "id": "5774ad3e",
   "metadata": {},
   "outputs": [],
   "source": [
    "dataroot = Path(\"/media/smbshare/3Tpioneer_bids\")\n",
    "training_work_home = Path(\"/home/srs-9/Projects/prl_project/training_work_dirs\")\n",
    "work_dir = training_work_home / \"test_train0_swinunet\" #! edit this\n",
    "ensemble_dir = work_dir / \"ensemble_output\"\n",
    "datalist_file_src = \"/home/srs-9/Projects/prl_project/training/test_train0/datalist.json\"\n",
    "datalist_file = work_dir / \"datalist.json\"\n",
    "\n",
    "prl_info = pd.read_csv(\"/home/srs-9/Projects/prl_project/data/PRL_labels.csv\")\n",
    "\n",
    "def subid_from_subject(subject):\n",
    "    return int(re.search(r\"(\\d{4})\", subject)[1])\n",
    "prl_info['subid'] = prl_info['ID'].map(subid_from_subject)\n",
    "prl_info.set_index(\"subid\", inplace=True)"
   ]
  },
  {
   "cell_type": "code",
   "execution_count": 5,
   "id": "b96032b5",
   "metadata": {},
   "outputs": [],
   "source": [
    "with open(datalist_file, 'r') as f:\n",
    "    datalist = json.load(f)\n",
    "\n",
    "subject_paths = {}\n",
    "for item in datalist['training']:\n",
    "    label = str(item['label'])\n",
    "    assert os.path.exists(label)\n",
    "    subject = re.search(r\"(sub-ms\\d{4})\", label)[1]\n",
    "    subid = re.search(r\"(\\d{4})\", subject)[1]\n",
    "    subject_paths[subid] = {}\n",
    "    subject_paths[subid]['label'] = label\n",
    "    session = re.search(r\"(ses-\\d{8})\", label)[1]\n",
    "    subject_paths[subid]['image_dir'] = dataroot / subject / session"
   ]
  },
  {
   "cell_type": "code",
   "execution_count": 17,
   "id": "0dedb3ba",
   "metadata": {},
   "outputs": [
    {
     "name": "stdout",
     "output_type": "stream",
     "text": [
      "itksnap -g /media/smbshare/3Tpioneer_bids/sub-ms1186/ses-20170517/flair.nii.gz -o /media/smbshare/3Tpioneer_bids/sub-ms1186/ses-20170517/phase.nii.gz /media/smbshare/3Tpioneer_bids/sub-ms1186/ses-20170517/t1.nii.gz -s /media/smbshare/3Tpioneer_bids/sub-ms1186/ses-20170517/lesion.t3m20/lesion_and_prl_labels_tmp.nii.gz\n",
      "TOTAL PRL: 1\n"
     ]
    },
    {
     "data": {
      "text/plain": [
       "<Popen: returncode: None args: ['itksnap', '-g', '/media/smbshare/3Tpioneer_...>"
      ]
     },
     "execution_count": 17,
     "metadata": {},
     "output_type": "execute_result"
    },
    {
     "name": "stdout",
     "output_type": "stream",
     "text": [
      "Launching ITK-SNAP\n"
     ]
    }
   ],
   "source": [
    "subid = 1186\n",
    "image_dir = subject_paths[str(subid)]['image_dir']\n",
    "images = [\"flair.nii.gz\", \"phase.nii.gz\", \"t1.nii.gz\"]\n",
    "image_paths = [image_dir / im for im in images]\n",
    "\n",
    "label_paths = [subject_paths[str(subid)]['label']]\n",
    "\n",
    "cmd = utils.open_itksnap_workspace_cmd(image_paths, label_paths, win=False)\n",
    "print(cmd)\n",
    "print(\"TOTAL PRL:\", prl_info.loc[subid, 'Total PRL'])\n",
    "pyperclip.copy(cmd)\n",
    "subprocess.Popen(cmd.split(\" \"))"
   ]
  },
  {
   "cell_type": "code",
   "execution_count": 22,
   "id": "ffce8c20",
   "metadata": {},
   "outputs": [],
   "source": [
    "target_dataroot = Path(\"/media/srs-9/Data/3Tpioneer_bids\")\n",
    "with open(\"copy_cmds.sh\", 'w') as f:\n",
    "    for item in datalist['training']:\n",
    "        subject = re.search(r\"(sub-ms\\d{4})\", label)[1]\n",
    "        session = re.search(r\"(ses-\\d{8})\", label)[1]\n",
    "        base_dir = dataroot / subject / session\n",
    "        lesion_dir = base_dir / \"lesion.t3m20\"\n",
    "        assert lesion_dir.exists()\n",
    "        target_dir = target_dataroot / subject / session / \"lesion.t3m20\"\n",
    "        if not target_dir.exists():\n",
    "            cmd = f\"cp -r {lesion_dir} {target_dir}\"\n",
    "            f.write(cmd + \"\\n\")\n",
    "\n",
    "    # for item in datalist['testing']:\n",
    "    #     subject = re.search(r\"(sub-ms\\d{4})\", label)[1]\n",
    "    #     session = re.search(r\"(ses-\\d{8})\", label)[1]\n",
    "    #     base_dir = dataroot / subject / session\n",
    "    #     lesion_dir = base_dir / \"lesion.t3m20\"\n",
    "    #     assert lesion_dir.exists()\n",
    "    #     target_dir = target_dataroot / subject / session / \"lesion.t3m20\"\n",
    "    #     if not target_dir.exists():\n",
    "    #         cmd = f\"cp -r {lesion_dir} {target_dir}\"\n",
    "    #         f.write(cmd + \"\\n\")"
   ]
  },
  {
   "cell_type": "code",
   "execution_count": 29,
   "id": "91160ee5",
   "metadata": {},
   "outputs": [],
   "source": [
    "target_dataroot = Path(\"/media/srs-9/Data/3Tpioneer_bids\")\n",
    "with open(\"copy_cmds.sh\", 'w') as f:\n",
    "    for _,row in prl_info.iterrows():\n",
    "        subject = f\"sub-{row['ID']}\"\n",
    "        session = f\"ses-{row['date_mri']}\"\n",
    "        base_dir = dataroot / subject / session\n",
    "        lesion_dir = base_dir / \"lesion.t3m20\"\n",
    "        assert lesion_dir.exists()\n",
    "        target_dir = target_dataroot / subject / session / \"lesion.t3m20\"\n",
    "        if not target_dir.exists():\n",
    "            cmd = f\"cp -r {lesion_dir} {target_dir}\"\n",
    "            f.write(cmd + \"\\n\")"
   ]
  },
  {
   "cell_type": "code",
   "execution_count": 27,
   "id": "2f347cf6",
   "metadata": {},
   "outputs": [
    {
     "data": {
      "text/plain": [
       "PosixPath('/media/smbshare/3Tpioneer_bids/sub-ms1002/ses-5/21/2020/lesion.t3m20')"
      ]
     },
     "execution_count": 27,
     "metadata": {},
     "output_type": "execute_result"
    }
   ],
   "source": [
    "lesion_dir"
   ]
  }
 ],
 "metadata": {
  "kernelspec": {
   "display_name": "monai",
   "language": "python",
   "name": "python3"
  },
  "language_info": {
   "codemirror_mode": {
    "name": "ipython",
    "version": 3
   },
   "file_extension": ".py",
   "mimetype": "text/x-python",
   "name": "python",
   "nbconvert_exporter": "python",
   "pygments_lexer": "ipython3",
   "version": "3.12.7"
  }
 },
 "nbformat": 4,
 "nbformat_minor": 5
}
