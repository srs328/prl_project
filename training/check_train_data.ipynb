{
 "cells": [
  {
   "cell_type": "code",
   "execution_count": 1,
   "id": "c7b44814",
   "metadata": {},
   "outputs": [],
   "source": [
    "from pathlib import Path\n",
    "from mri_data import utils\n",
    "import nibabel as nib\n",
    "import os\n",
    "import json\n",
    "import re\n",
    "import statistics\n",
    "import numpy as np\n",
    "import pyperclip\n",
    "import subprocess\n",
    "import pandas as pd\n",
    "\n",
    "from mri_data import file_manager as fm"
   ]
  },
  {
   "cell_type": "code",
   "execution_count": 4,
   "id": "5774ad3e",
   "metadata": {},
   "outputs": [],
   "source": [
    "drive_root = fm.get_drive_root()\n",
    "dataroot = drive_root / \"3Tpioneer_bids\"\n",
    "# training_work_home = Path(\"/home/srs-9/Projects/prl_project/training_work_dirs\")\n",
    "training_work_home = drive_root / \"srs-9/prl_project/training_work_dirs\"\n",
    "work_dir = training_work_home / \"test_train0_swinunet\" #! edit this\n",
    "ensemble_dir = work_dir / \"ensemble_output\"\n",
    "datalist_file_src = \"/home/srs-9/Projects/prl_project/training/test_train0/datalist.json\"\n",
    "datalist_file = work_dir / \"datalist.json\"\n",
    "\n",
    "prl_info = pd.read_csv(\"/home/srs-9/Projects/prl_project/data/PRL_labels.csv\")\n",
    "\n",
    "def subid_from_subject(subject):\n",
    "    return int(re.search(r\"(\\d{4})\", subject)[1])\n",
    "prl_info['subid'] = prl_info['ID'].map(subid_from_subject)\n",
    "prl_info.set_index(\"subid\", inplace=True)"
   ]
  },
  {
   "cell_type": "code",
   "execution_count": 9,
   "id": "b96032b5",
   "metadata": {},
   "outputs": [],
   "source": [
    "with open(datalist_file, 'r') as f:\n",
    "    datalist = json.load(f)\n",
    "\n",
    "subject_paths = {}\n",
    "for item in datalist['training']:\n",
    "    label = str(drive_root / Path(item['label']).relative_to(\"/media/smbshare\"))\n",
    "    assert os.path.exists(label)\n",
    "    subject = re.search(r\"(sub-ms\\d{4})\", label)[1]\n",
    "    subid = re.search(r\"(\\d{4})\", subject)[1]\n",
    "    subject_paths[subid] = {}\n",
    "    subject_paths[subid]['label'] = label\n",
    "    session = re.search(r\"(ses-\\d{8})\", label)[1]\n",
    "    subject_paths[subid]['image_dir'] = dataroot / subject / session"
   ]
  },
  {
   "cell_type": "code",
   "execution_count": 16,
   "id": "0dedb3ba",
   "metadata": {},
   "outputs": [
    {
     "name": "stdout",
     "output_type": "stream",
     "text": [
      "itksnap -g H:/3Tpioneer_bids/sub-ms1010/ses-20180208/flair.nii.gz -o H:/3Tpioneer_bids/sub-ms1010/ses-20180208/phase.nii.gz H:/3Tpioneer_bids/sub-ms1010/ses-20180208/t1.nii.gz -s H:/3Tpioneer_bids/sub-ms1010/ses-20180208/lesion.t3m20/lesion_and_prl_labels_tmp.nii.gz\n",
      "TOTAL PRL: 3\n"
     ]
    }
   ],
   "source": [
    "subid = 1010\n",
    "image_dir = subject_paths[str(subid)]['image_dir']\n",
    "images = [\"flair.nii.gz\", \"phase.nii.gz\", \"t1.nii.gz\"]\n",
    "image_paths = [image_dir / im for im in images]\n",
    "\n",
    "label_paths = [subject_paths[str(subid)]['label']]\n",
    "\n",
    "cmd = utils.open_itksnap_workspace_cmd(image_paths, label_paths, win=True)\n",
    "print(cmd)\n",
    "print(\"TOTAL PRL:\", prl_info.loc[subid, 'Total PRL'])\n",
    "pyperclip.copy(cmd)\n",
    "# subprocess.Popen(cmd.split(\" \"))"
   ]
  }
 ],
 "metadata": {
  "kernelspec": {
   "display_name": "monai",
   "language": "python",
   "name": "python3"
  },
  "language_info": {
   "codemirror_mode": {
    "name": "ipython",
    "version": 3
   },
   "file_extension": ".py",
   "mimetype": "text/x-python",
   "name": "python",
   "nbconvert_exporter": "python",
   "pygments_lexer": "ipython3",
   "version": "3.12.7"
  }
 },
 "nbformat": 4,
 "nbformat_minor": 5
}
