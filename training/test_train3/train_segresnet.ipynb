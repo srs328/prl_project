{
 "cells": [
  {
   "cell_type": "code",
   "execution_count": 1,
   "id": "4aefd016",
   "metadata": {},
   "outputs": [
    {
     "name": "stdout",
     "output_type": "stream",
     "text": [
      "MONAI version: 1.4.0\n",
      "Numpy version: 1.26.4\n",
      "Pytorch version: 2.5.1+cu124\n",
      "MONAI flags: HAS_EXT = False, USE_COMPILED = False, USE_META_DICT = False\n",
      "MONAI rev id: 46a5272196a6c2590ca2589029eed8e4d56ff008\n",
      "MONAI __file__: /home/<username>/.virtualenvs/monai/lib/python3.12/site-packages/monai/__init__.py\n",
      "\n",
      "Optional dependencies:\n",
      "Pytorch Ignite version: NOT INSTALLED or UNKNOWN VERSION.\n",
      "ITK version: 5.4.0\n",
      "Nibabel version: 5.3.2\n",
      "scikit-image version: 0.24.0\n",
      "scipy version: 1.14.1\n",
      "Pillow version: 11.0.0\n",
      "Tensorboard version: 2.18.0\n",
      "gdown version: 5.2.0\n",
      "TorchVision version: 0.20.1+cu124\n",
      "tqdm version: 4.66.6\n",
      "lmdb version: 1.5.1\n",
      "psutil version: 6.1.0\n",
      "pandas version: 2.2.3\n",
      "einops version: 0.8.0\n",
      "transformers version: 4.46.2\n",
      "mlflow version: 2.17.2\n",
      "pynrrd version: 1.1.1\n",
      "clearml version: 1.16.5\n",
      "\n",
      "For details about installing the optional dependencies, please visit:\n",
      "    https://docs.monai.io/en/latest/installation.html#installing-the-recommended-dependencies\n",
      "\n"
     ]
    }
   ],
   "source": [
    "import os\n",
    "from pathlib import Path\n",
    "from monai.apps.auto3dseg import AutoRunner\n",
    "from monai.config import print_config\n",
    "import shutil\n",
    "\n",
    "print_config()"
   ]
  },
  {
   "cell_type": "code",
   "execution_count": 2,
   "id": "498dfa2f",
   "metadata": {},
   "outputs": [],
   "source": [
    "dataroot = Path(\"/media/smbshare/srs-9/prl_project/training/test_train3\")\n",
    "training_work_home = Path(\"/home/srs-9/Projects/prl_project/training_work_dirs\")\n",
    "work_dir = training_work_home / \"test_train3_segresnet\" #! edit this\n",
    "datalist_file_src = os.path.join(os.getcwd(), \"datalist.json\")\n",
    "datalist_file = work_dir / \"datalist.json\"\n",
    "algos = [\"segresnet\"]\n",
    "\n",
    "description = \"\"\"Model: SegResNet\n",
    "Trained using flair.phase.t1 images. \n",
    "Labels by Lia, edited to make 5->1, 4->1 (extra T2L and iron content as red) and overlaid on lst-ai segs\"\"\""
   ]
  },
  {
   "cell_type": "markdown",
   "id": "92f26a15",
   "metadata": {},
   "source": [
    "Check that every file in the datalist exists"
   ]
  },
  {
   "cell_type": "code",
   "execution_count": 3,
   "id": "9618607a",
   "metadata": {},
   "outputs": [],
   "source": [
    "import json\n",
    "\n",
    "with open(datalist_file_src, 'r') as f:\n",
    "    datalist = json.load(f)\n",
    "\n",
    "for item in datalist['training']:\n",
    "    assert os.path.exists(item['image'])\n",
    "    assert os.path.exists(item['label'])\n",
    "\n",
    "for item in datalist['testing']:\n",
    "    assert os.path.exists(item['image'])"
   ]
  },
  {
   "cell_type": "markdown",
   "id": "1c27d6f0",
   "metadata": {},
   "source": [
    "Create the work_dir, copy over the datalist, and save an info file"
   ]
  },
  {
   "cell_type": "code",
   "execution_count": 18,
   "id": "988d591c",
   "metadata": {},
   "outputs": [
    {
     "name": "stdout",
     "output_type": "stream",
     "text": [
      "work_dir is:  /home/srs-9/Projects/prl_project/training_work_dirs/test_train3_segresnet\n"
     ]
    }
   ],
   "source": [
    "if not work_dir.exists():\n",
    "    print(f\"Creating {str(work_dir)}\")\n",
    "    os.makedirs(work_dir)\n",
    "\n",
    "shutil.copyfile(datalist_file_src, datalist_file)\n",
    "\n",
    "with open(work_dir / \"info.txt\", 'w') as f:\n",
    "    f.write(description)\n",
    "\n",
    "print(\"work_dir is: \", work_dir)"
   ]
  },
  {
   "cell_type": "code",
   "execution_count": 4,
   "id": "87b7a902",
   "metadata": {},
   "outputs": [
    {
     "name": "stdout",
     "output_type": "stream",
     "text": [
      "2025-08-21 17:09:18,738 - INFO - AutoRunner using work directory /home/srs-9/Projects/prl_project/training_work_dirs/test_train3_segresnet\n",
      "2025-08-21 17:09:18,756 - INFO - Found num_fold 2 based on the input datalist /home/srs-9/Projects/prl_project/training_work_dirs/test_train3_segresnet/datalist.json.\n",
      "2025-08-21 17:09:18,756 - INFO - Setting num_fold 2 based on the input datalist /home/srs-9/Projects/prl_project/training_work_dirs/test_train3_segresnet/datalist.json.\n",
      "2025-08-21 17:09:18,773 - INFO - Using user defined command running prefix , will override other settings\n"
     ]
    }
   ],
   "source": [
    "runner = AutoRunner(\n",
    "    work_dir=work_dir,\n",
    "    algos=algos,\n",
    "    input={\n",
    "        \"modality\": \"MRI\",\n",
    "        \"datalist\": str(datalist_file),\n",
    "        \"dataroot\": str(dataroot),\n",
    "    },\n",
    ")"
   ]
  },
  {
   "cell_type": "code",
   "execution_count": 5,
   "id": "de9ea368",
   "metadata": {},
   "outputs": [
    {
     "data": {
      "text/plain": [
       "<monai.apps.auto3dseg.auto_runner.AutoRunner at 0x7f6546131e50>"
      ]
     },
     "execution_count": 5,
     "metadata": {},
     "output_type": "execute_result"
    }
   ],
   "source": [
    "max_epochs = 250\n",
    "\n",
    "train_param = {\n",
    "    \"num_epochs_per_validation\": 1,\n",
    "    #\"num_images_per_batch\": 2,\n",
    "    \"num_epochs\": max_epochs,\n",
    "    \"num_warmup_epochs\": 1,\n",
    "}\n",
    "runner.set_training_params(train_param)"
   ]
  },
  {
   "cell_type": "code",
   "execution_count": 6,
   "id": "cdb98ae0",
   "metadata": {},
   "outputs": [
    {
     "name": "stdout",
     "output_type": "stream",
     "text": [
      "2025-08-21 17:09:26,078 - INFO - Skipping data analysis...\n",
      "2025-08-21 17:09:26,079 - INFO - Skipping algorithm generation...\n",
      "2025-08-21 17:09:26,088 - INFO - ['python', '/home/srs-9/Projects/prl_project/training_work_dirs/test_train3_segresnet/segresnet_0/scripts/train.py', 'run', \"--config_file='/home/srs-9/Projects/prl_project/training_work_dirs/test_train3_segresnet/segresnet_0/configs/hyper_parameters.yaml'\", '--num_epochs_per_validation=1', '--num_epochs=250', '--num_warmup_epochs=1']\n"
     ]
    },
    {
     "name": "stderr",
     "output_type": "stream",
     "text": [
      "`torch.cuda.amp.GradScaler(args...)` is deprecated. Please use `torch.amp.GradScaler('cuda', args...)` instead.\n",
      "segresnet_0 - training:   0%|          | 0/250 [00:00<?, ?epoch/s]`torch.cuda.amp.autocast(args...)` is deprecated. Please use `torch.amp.autocast('cuda', args...)` instead.\n",
      "`torch.cuda.amp.autocast(args...)` is deprecated. Please use `torch.amp.autocast('cuda', args...)` instead.\n",
      "segresnet_0 - training: 100%|██████████| 250/250 [52:24<00:00, 12.58s/epoch]\n"
     ]
    },
    {
     "name": "stdout",
     "output_type": "stream",
     "text": [
      "2025-08-21 18:01:56,612 - INFO - ['python', '/home/srs-9/Projects/prl_project/training_work_dirs/test_train3_segresnet/segresnet_1/scripts/train.py', 'run', \"--config_file='/home/srs-9/Projects/prl_project/training_work_dirs/test_train3_segresnet/segresnet_1/configs/hyper_parameters.yaml'\", '--num_epochs_per_validation=1', '--num_epochs=250', '--num_warmup_epochs=1']\n"
     ]
    },
    {
     "name": "stderr",
     "output_type": "stream",
     "text": [
      "`torch.cuda.amp.GradScaler(args...)` is deprecated. Please use `torch.amp.GradScaler('cuda', args...)` instead.\n",
      "2025/08/21 18:02:00 INFO mlflow.tracking.fluent: Experiment with name 'Auto3DSeg' does not exist. Creating a new experiment.\n",
      "segresnet_1 - training:   0%|          | 0/250 [00:00<?, ?epoch/s]`torch.cuda.amp.autocast(args...)` is deprecated. Please use `torch.amp.autocast('cuda', args...)` instead.\n",
      "`torch.cuda.amp.autocast(args...)` is deprecated. Please use `torch.amp.autocast('cuda', args...)` instead.\n",
      "segresnet_1 - training: 100%|██████████| 250/250 [1:01:17<00:00, 14.71s/epoch]\n"
     ]
    },
    {
     "name": "stdout",
     "output_type": "stream",
     "text": [
      "2025-08-21 19:03:19,986 - INFO - Ensembling using single GPU!\n",
      "2025-08-21 19:03:19,986 - INFO - The output_dir is not specified. /home/srs-9/Projects/prl_project/training_work_dirs/test_train3_segresnet/ensemble_output will be used to save ensemble predictions.\n",
      "2025-08-21 19:03:19,986 - INFO - Directory /home/srs-9/Projects/prl_project/training_work_dirs/test_train3_segresnet/ensemble_output is created to save ensemble predictions\n",
      "2025-08-21 19:03:20,018 - INFO - Auto3Dseg picked the following networks to ensemble:\n",
      "2025-08-21 19:03:20,018 - INFO - segresnet_0\n",
      "2025-08-21 19:03:20,019 - INFO - segresnet_1\n",
      "2025-08-21 19:03:20,019 - INFO - Auto3Dseg ensemble prediction outputs will be saved in /home/srs-9/Projects/prl_project/training_work_dirs/test_train3_segresnet/ensemble_output.\n"
     ]
    },
    {
     "name": "stderr",
     "output_type": "stream",
     "text": [
      "Ensembling (rank 0)...:   0%|          | 0/3 [00:00<?, ?it/s]You are using `torch.load` with `weights_only=False` (the current default value), which uses the default pickle module implicitly. It is possible to construct malicious pickle data which will execute arbitrary code during unpickling (See https://github.com/pytorch/pytorch/blob/main/SECURITY.md#untrusted-models for more details). In a future release, the default value for `weights_only` will be flipped to `True`. This limits the functions that could be executed during unpickling. Arbitrary objects will no longer be allowed to be loaded via this mode unless they are explicitly allowlisted by the user via `torch.serialization.add_safe_globals`. We recommend you start setting `weights_only=True` for any use case where you don't have full control of the loaded file. Please open an issue on GitHub for any issues related to this experimental feature.\n",
      "`torch.cuda.amp.GradScaler(args...)` is deprecated. Please use `torch.amp.GradScaler('cuda', args...)` instead.\n",
      "`torch.cuda.amp.autocast(args...)` is deprecated. Please use `torch.amp.autocast('cuda', args...)` instead.\n",
      "Ensembling (rank 0)...: 100%|██████████| 3/3 [01:05<00:00, 21.78s/it]\n",
      "Auto3Dseg pipeline is completed successfully.\n"
     ]
    }
   ],
   "source": [
    "runner.run()"
   ]
  }
 ],
 "metadata": {
  "kernelspec": {
   "display_name": "monai",
   "language": "python",
   "name": "python3"
  },
  "language_info": {
   "codemirror_mode": {
    "name": "ipython",
    "version": 3
   },
   "file_extension": ".py",
   "mimetype": "text/x-python",
   "name": "python",
   "nbconvert_exporter": "python",
   "pygments_lexer": "ipython3",
   "version": "3.12.7"
  }
 },
 "nbformat": 4,
 "nbformat_minor": 5
}
