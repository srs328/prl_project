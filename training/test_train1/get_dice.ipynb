{
 "cells": [
  {
   "cell_type": "code",
   "execution_count": null,
   "id": "16520926",
   "metadata": {},
   "outputs": [],
   "source": [
    "from pathlib import Path\n",
    "from mri_data import utils\n",
    "import nibabel as nib\n",
    "import os\n",
    "import json\n",
    "import re\n",
    "import statistics\n",
    "import numpy as np"
   ]
  },
  {
   "cell_type": "code",
   "execution_count": 3,
   "id": "a209f40b",
   "metadata": {},
   "outputs": [],
   "source": [
    "dataroot = Path(\"/media/smbshare/3Tpioneer_bids\")\n",
    "training_work_home = Path(\"/home/srs-9/Projects/prl_project/training_work_dirs\")\n",
    "work_dir = training_work_home / \"test_train0_swinunet\" #! edit this\n",
    "ensemble_dir = work_dir / \"ensemble_output\"\n",
    "datalist_file_src = os.path.join(os.getcwd(), \"datalist.json\")\n",
    "datalist_file = work_dir / \"datalist.json\""
   ]
  },
  {
   "cell_type": "code",
   "execution_count": 16,
   "id": "849a8d20",
   "metadata": {},
   "outputs": [],
   "source": [
    "with open(datalist_file, 'r') as f:\n",
    "    datalist = json.load(f)\n",
    "\n",
    "inferences = []\n",
    "labels = []\n",
    "for item in datalist['testing']:\n",
    "    label = str(item['label'])\n",
    "    assert os.path.exists(label)\n",
    "    labels.append(label)\n",
    "    subject = re.search(r\"(sub-ms\\d{4})\", label)[1]\n",
    "    session = re.search(r\"(ses-\\d{8})\", label)[1]\n",
    "    inf = ensemble_dir / subject / session / \"flair.phase.t1_ensemble.nii.gz\"\n",
    "    assert inf.exists()\n",
    "    inferences.append(str(inf))"
   ]
  },
  {
   "cell_type": "code",
   "execution_count": 17,
   "id": "f80e619a",
   "metadata": {},
   "outputs": [],
   "source": [
    "lesion_dice_scores = []\n",
    "prl_dice_scores = []\n",
    "for lab, inf in zip(labels, inferences):\n",
    "    lab_data = nib.load(lab).get_fdata()\n",
    "    inf_data = nib.load(inf).get_fdata()\n",
    "    lesion_dice_scores.append(utils.dice_score(lab_data, inf_data, seg1_val=1, seg2_val=1))\n",
    "    prl_dice_scores.append(utils.dice_score(lab_data, inf_data, seg1_val=2, seg2_val=2))"
   ]
  },
  {
   "cell_type": "code",
   "execution_count": 23,
   "id": "4577d303",
   "metadata": {},
   "outputs": [
    {
     "name": "stdout",
     "output_type": "stream",
     "text": [
      "lesion dice: 0.82\n",
      "PRL    dice: 0.47\n"
     ]
    }
   ],
   "source": [
    "print(\"lesion dice: {:0.2f}\".format(statistics.mean(lesion_dice_scores)))\n",
    "print(\"PRL    dice: {:0.2f}\".format(statistics.mean(prl_dice_scores)))"
   ]
  },
  {
   "cell_type": "code",
   "execution_count": null,
   "id": "4333105e",
   "metadata": {},
   "outputs": [],
   "source": [
    "def dice_score(seg1, seg2, seg1_val=1, seg2_val=1):\n",
    "    intersection = np.sum((seg1 == seg1_val) & (seg2 == seg2_val))\n",
    "    volume_sum = np.sum(seg1 == seg1_val) + np.sum(seg2 == seg2_val)\n",
    "    if volume_sum == 0:\n",
    "        # ? Why did I originally make this 1.0? Was there good reason, or mistake?\n",
    "        # return 1.0\n",
    "        return None\n",
    "    return 2.0 * intersection / volume_sum"
   ]
  }
 ],
 "metadata": {
  "kernelspec": {
   "display_name": "monai",
   "language": "python",
   "name": "python3"
  },
  "language_info": {
   "codemirror_mode": {
    "name": "ipython",
    "version": 3
   },
   "file_extension": ".py",
   "mimetype": "text/x-python",
   "name": "python",
   "nbconvert_exporter": "python",
   "pygments_lexer": "ipython3",
   "version": "3.12.7"
  }
 },
 "nbformat": 4,
 "nbformat_minor": 5
}
