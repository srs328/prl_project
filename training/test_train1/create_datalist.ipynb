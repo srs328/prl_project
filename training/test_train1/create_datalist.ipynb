{
 "cells": [
  {
   "cell_type": "code",
   "execution_count": 14,
   "id": "6766ed4b",
   "metadata": {},
   "outputs": [],
   "source": [
    "from pathlib import Path\n",
    "import json\n",
    "import random\n",
    "import os"
   ]
  },
  {
   "cell_type": "code",
   "execution_count": 23,
   "id": "a377cce5",
   "metadata": {},
   "outputs": [],
   "source": [
    "train_frac = 0.8\n",
    "n_folds = 5\n",
    "dataroot = Path(\"/media/smbshare/3Tpioneer_bids\")"
   ]
  },
  {
   "cell_type": "code",
   "execution_count": null,
   "id": "73015eec",
   "metadata": {},
   "outputs": [],
   "source": [
    "with open(\"/home/srs-9/Projects/prl_project/data/subject-sessions-longit.json\", 'r') as f:\n",
    "    subject_sessions = json.load(f)\n",
    "\n",
    "with open(\"/home/srs-9/Projects/prl_project/training/test_train0/subjects-to-train.txt\", 'r') as f:\n",
    "    subjects = [line.strip() for line in f.readlines()]\n",
    "\n",
    "scan_dirs = []\n",
    "for subid in subjects:\n",
    "    sessions = sorted(subject_sessions[subid])\n",
    "    scan_dir = dataroot / f\"sub-ms{subid}\" / f\"ses-{sessions[0]}\"\n",
    "    scan_dirs.append(scan_dir)"
   ]
  },
  {
   "cell_type": "code",
   "execution_count": 19,
   "id": "12668bb2",
   "metadata": {},
   "outputs": [
    {
     "name": "stdout",
     "output_type": "stream",
     "text": [
      "/media/smbshare/3Tpioneer_bids/sub-ms1196/ses-20161004/flair.phase.t1.nii.gz not found\n"
     ]
    }
   ],
   "source": [
    "data = []\n",
    "for path in scan_dirs:\n",
    "    image = path / \"flair.phase.t1.nii.gz\"\n",
    "    if not image.exists():\n",
    "        print(f\"{str(image)} not found\")\n",
    "        continue\n",
    "    label = path / \"lesion.t3m20\" / \"lesion_and_prl_labels_tmp.nii.gz\"\n",
    "    if not label.exists():\n",
    "        print(f\"{str(label)} not found\")\n",
    "        continue\n",
    "    data.append({\"image\": str(image), \"label\": str(label)})"
   ]
  },
  {
   "cell_type": "code",
   "execution_count": 20,
   "id": "fd23cc2f",
   "metadata": {},
   "outputs": [],
   "source": [
    "random.shuffle(data)\n",
    "train_number = int(len(data) * 0.8) - (int(len(data) * 0.8) % n_folds)\n",
    "test_data = data.copy()\n",
    "train_data = [test_data.pop() for _ in range(train_number)]"
   ]
  },
  {
   "cell_type": "code",
   "execution_count": 24,
   "id": "e186f3f8",
   "metadata": {},
   "outputs": [],
   "source": [
    "datalist = {\n",
    "    \"testing\": test_data,\n",
    "    \"training\": [{\"fold\": i % n_folds, \"image\": c[\"image\"], \"label\": c[\"label\"]} for i,c in enumerate(train_data)]\n",
    "}\n",
    "\n",
    "datalist_file = os.path.join(os.getcwd(), \"datalist.json\")\n",
    "with open(datalist_file, \"w\") as f:\n",
    "    json.dump(datalist, f, indent=4)"
   ]
  }
 ],
 "metadata": {
  "kernelspec": {
   "display_name": "monai",
   "language": "python",
   "name": "python3"
  },
  "language_info": {
   "codemirror_mode": {
    "name": "ipython",
    "version": 3
   },
   "file_extension": ".py",
   "mimetype": "text/x-python",
   "name": "python",
   "nbconvert_exporter": "python",
   "pygments_lexer": "ipython3",
   "version": "3.12.7"
  }
 },
 "nbformat": 4,
 "nbformat_minor": 5
}
