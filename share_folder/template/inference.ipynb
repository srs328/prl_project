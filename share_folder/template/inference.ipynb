{
 "cells": [
  {
   "cell_type": "code",
   "execution_count": null,
   "id": "f1880775",
   "metadata": {},
   "outputs": [],
   "source": [
    "import json\n",
    "import os\n",
    "from pathlib import Path\n",
    "import shutil\n",
    "\n",
    "from monai.apps.auto3dseg import (\n",
    "    AlgoEnsembleBestN,\n",
    "    AlgoEnsembleBuilder,\n",
    "    import_bundle_algo_history,\n",
    ")"
   ]
  },
  {
   "cell_type": "code",
   "execution_count": null,
   "id": "2c823f4a",
   "metadata": {},
   "outputs": [],
   "source": [
    "model = \"segresnet\" \n",
    "work_dir_name = f\"{model}_work_dir\" # whatever you named the work_dir during training\n",
    "\n",
    "# this will be where inference gets saved\n",
    "savedir_name = f\"{model}_inference\" \n",
    "\n",
    "task_name = \"\" # whatever you want, or leave blank"
   ]
  },
  {
   "cell_type": "code",
   "execution_count": null,
   "id": "9e4c00f2",
   "metadata": {},
   "outputs": [],
   "source": [
    "dataroot = Path(\"/media/smbshare/3Tpioneer_bids\")\n",
    "curr_dir = Path(os.getcwd())\n",
    "\n",
    "save_dir = curr_dir / savedir_name\n",
    "network_bundle_path = curr_dir / work_dir_name\n",
    "datalist_file_src = curr_dir / \"inference_datalist.json\"\n",
    "datalist_file = save_dir / \"inference_datalist.json\"\n",
    "\n",
    "shutil.copyfile(datalist_file_src, datalist_file)\n",
    "\n",
    "# you can customize the way it saves predictions, but don't worry about it for now\n",
    "save_params = {\n",
    "    \"_target_\": \"SaveImage\",\n",
    "    \"output_dir\": save_dir,\n",
    "    \"data_root_dir\": dataroot,\n",
    "    \"output_postfix\": \"\",\n",
    "    \"separate_folder\": True\n",
    "}"
   ]
  },
  {
   "cell_type": "code",
   "execution_count": null,
   "id": "d829742c",
   "metadata": {},
   "outputs": [],
   "source": [
    "task = {\n",
    "    \"name\": task_name,\n",
    "    \"task\": \"segmentation\",\n",
    "    \"modality\": \"MRI\",\n",
    "    \"datalist\": datalist_file,\n",
    "    \"dataroot\": dataroot,\n",
    "}\n",
    "\n",
    "task_file = os.path.join(save_dir, \"inference-task.json\")\n",
    "with open(task_file, \"w\") as f:\n",
    "    json.dump(task, f, indent=4)\n",
    "\n",
    "input_cfg = task_file  # path to the task input YAML file created by the users\n",
    "history = import_bundle_algo_history(network_bundle_path, only_trained=True)\n",
    "\n",
    "## model ensemble\n",
    "n_best = 5\n",
    "builder = AlgoEnsembleBuilder(history, input_cfg)\n",
    "builder.set_ensemble_method(AlgoEnsembleBestN(n_best=n_best))\n",
    "ensemble = builder.get_ensemble()\n",
    "ensemble(pred_param={\"image_save_func\": save_params})"
   ]
  }
 ],
 "metadata": {
  "kernelspec": {
   "display_name": "monai",
   "language": "python",
   "name": "python3"
  },
  "language_info": {
   "codemirror_mode": {
    "name": "ipython",
    "version": 3
   },
   "file_extension": ".py",
   "mimetype": "text/x-python",
   "name": "python",
   "nbconvert_exporter": "python",
   "pygments_lexer": "ipython3",
   "version": "3.12.7"
  }
 },
 "nbformat": 4,
 "nbformat_minor": 5
}
