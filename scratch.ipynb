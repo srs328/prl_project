{
 "cells": [
  {
   "cell_type": "code",
   "execution_count": null,
   "id": "3cc1b211",
   "metadata": {},
   "outputs": [],
   "source": [
    "import json\n",
    "import pandas as pd\n",
    "import os"
   ]
  },
  {
   "cell_type": "code",
   "execution_count": 10,
   "id": "ac0cd4ce",
   "metadata": {},
   "outputs": [],
   "source": [
    "with open(\"/home/srs-9/Projects/prl_project/subjects_to_process.txt\", 'r') as f:\n",
    "    all_subjects = [line.strip() for line in f.readlines()]\n",
    "\n",
    "with open(\"/home/srs-9/Projects/prl_project/training/test_train0/subjects-to-train.txt\", 'r') as f:\n",
    "    train_subjects = [line.strip() for line in f.readlines()]\n",
    "\n",
    "all_subjects = set(all_subjects)\n",
    "train_subjects = set(train_subjects)"
   ]
  },
  {
   "cell_type": "code",
   "execution_count": 11,
   "id": "195d9274",
   "metadata": {},
   "outputs": [],
   "source": [
    "missing_prl_subjects = list(all_subjects - train_subjects)\n",
    "missing_prl_subjects.sort()\n",
    "with open(\"green_subjects_wo_prl_labels.txt\", 'w') as f:\n",
    "    for subid in missing_prl_subjects:\n",
    "        f.write(subid+\"\\n\")"
   ]
  },
  {
   "cell_type": "code",
   "execution_count": null,
   "id": "170b729c",
   "metadata": {},
   "outputs": [],
   "source": [
    "prl_info = pd.read_csv(\"/home/srs-9/Projects/prl_project/data/PRL_labels.csv\", index_col=\"subid\")\n",
    "\n",
    "\n",
    "dataroot = \"/media/smbshare/3Tpioneer_bids\"\n",
    "with open(\"/home/srs-9/Projects/prl_project/data/subject-sessions-longit.json\", 'r') as f:\n",
    "    subject_sessions = json.load(f)\n",
    "\n",
    "train_subjects = list(train_subjects)\n",
    "\n",
    "# build dataframe\n",
    "sessions = [subject_sessions[subid] for subid in train_subjects]\n",
    "subids = [int(subid) for subid in train_subjects]\n",
    "nPRLs = prl_info.loc[subids, 'Total PRL']"
   ]
  },
  {
   "cell_type": "code",
   "execution_count": 3,
   "id": "e1f83b0e",
   "metadata": {},
   "outputs": [],
   "source": [
    "with open(\"/home/srs-9/Projects/prl_project/subject_lists/green_subjects.txt\", 'r') as f:\n",
    "    subjects = [line.strip() for line in f.readlines()]\n",
    "\n",
    "subjects.sort()\n",
    "\n",
    "with open(\"/home/srs-9/Projects/prl_project/subject_lists/green_subjects2.txt\", 'w') as f:\n",
    "    for sub in subjects:\n",
    "        f.write(sub+\"\\n\")"
   ]
  }
 ],
 "metadata": {
  "kernelspec": {
   "display_name": "monai",
   "language": "python",
   "name": "python3"
  },
  "language_info": {
   "codemirror_mode": {
    "name": "ipython",
    "version": 3
   },
   "file_extension": ".py",
   "mimetype": "text/x-python",
   "name": "python",
   "nbconvert_exporter": "python",
   "pygments_lexer": "ipython3",
   "version": "3.12.7"
  }
 },
 "nbformat": 4,
 "nbformat_minor": 5
}
