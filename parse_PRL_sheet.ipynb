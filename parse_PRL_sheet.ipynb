{
 "cells": [
  {
   "cell_type": "code",
   "execution_count": 2,
   "id": "0421e621",
   "metadata": {},
   "outputs": [],
   "source": [
    "import pandas as pd"
   ]
  },
  {
   "cell_type": "code",
   "execution_count": 10,
   "id": "4b424905",
   "metadata": {},
   "outputs": [],
   "source": [
    "prl_df = pd.read_csv(\"/home/srs-9/Projects/prl_project/data/PRL_labels.csv\")\n",
    "check = prl_df[(prl_df.mri_difference > 2) & (prl_df['Total PRL'] > 0)]"
   ]
  },
  {
   "cell_type": "code",
   "execution_count": 4,
   "id": "d9d38075",
   "metadata": {},
   "outputs": [
    {
     "name": "stdout",
     "output_type": "stream",
     "text": [
      "3                 NaN\n",
      "4      LST_FSLcluster\n",
      "12                NaN\n",
      "14     LST_FSLcluster\n",
      "16                NaN\n",
      "            ...      \n",
      "238               NaN\n",
      "240               NaN\n",
      "242               NaN\n",
      "249               NaN\n",
      "255               NaN\n",
      "Name: algorithm, Length: 90, dtype: object\n"
     ]
    }
   ],
   "source": [
    "print(check['algorithm'])"
   ]
  },
  {
   "cell_type": "code",
   "execution_count": 11,
   "id": "f8578909",
   "metadata": {},
   "outputs": [
    {
     "name": "stdout",
     "output_type": "stream",
     "text": [
      "ms1225\n",
      "ms1356\n",
      "ms2113\n"
     ]
    }
   ],
   "source": [
    "for _,row in check.iterrows():\n",
    "    if isinstance(row['algorithm'], str) and \"SAMSEG\" in row['algorithm']:\n",
    "        print(row['ID'])"
   ]
  }
 ],
 "metadata": {
  "kernelspec": {
   "display_name": "monai",
   "language": "python",
   "name": "python3"
  },
  "language_info": {
   "codemirror_mode": {
    "name": "ipython",
    "version": 3
   },
   "file_extension": ".py",
   "mimetype": "text/x-python",
   "name": "python",
   "nbconvert_exporter": "python",
   "pygments_lexer": "ipython3",
   "version": "3.12.7"
  }
 },
 "nbformat": 4,
 "nbformat_minor": 5
}
