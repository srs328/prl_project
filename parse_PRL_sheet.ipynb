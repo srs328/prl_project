{
 "cells": [
  {
   "cell_type": "code",
   "execution_count": 14,
   "id": "0421e621",
   "metadata": {},
   "outputs": [],
   "source": [
    "import pandas as pd"
   ]
  },
  {
   "cell_type": "code",
   "execution_count": 24,
   "id": "4b424905",
   "metadata": {},
   "outputs": [],
   "source": [
    "prl_df = pd.read_csv(\"/home/srs-9/Projects/prl_project/data/PRL_labels.csv\")\n",
    "check = prl_df[(prl_df.mri_difference > 2) & (prl_df['Total PRL'] > 0)]"
   ]
  },
  {
   "cell_type": "code",
   "execution_count": null,
   "id": "d9d38075",
   "metadata": {},
   "outputs": [],
   "source": []
  }
 ],
 "metadata": {
  "kernelspec": {
   "display_name": "monai",
   "language": "python",
   "name": "python3"
  },
  "language_info": {
   "codemirror_mode": {
    "name": "ipython",
    "version": 3
   },
   "file_extension": ".py",
   "mimetype": "text/x-python",
   "name": "python",
   "nbconvert_exporter": "python",
   "pygments_lexer": "ipython3",
   "version": "3.12.4"
  }
 },
 "nbformat": 4,
 "nbformat_minor": 5
}
