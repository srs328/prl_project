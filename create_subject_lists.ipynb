{
 "cells": [
  {
   "cell_type": "code",
   "execution_count": 3,
   "id": "cd002bfd",
   "metadata": {},
   "outputs": [],
   "source": [
    "import pandas as pd\n",
    "import re"
   ]
  },
  {
   "cell_type": "code",
   "execution_count": 4,
   "id": "a7c14b97",
   "metadata": {},
   "outputs": [],
   "source": [
    "def get_subid(string):\n",
    "    return re.search(r\"(\\d{4})\", string)[1]"
   ]
  },
  {
   "cell_type": "code",
   "execution_count": 2,
   "id": "639f5269",
   "metadata": {},
   "outputs": [],
   "source": [
    "prl_df = pd.read_csv(\"/home/srs-9/Projects/prl_project/data/PRL_labels.csv\")"
   ]
  },
  {
   "cell_type": "code",
   "execution_count": 6,
   "id": "45c2df59",
   "metadata": {},
   "outputs": [
    {
     "name": "stdout",
     "output_type": "stream",
     "text": [
      "['1010', '1011', '1038', '1044', '1050', '1066', '1074', '1076', '1078', '1080', '1100', '1125', '1126', '1130', '1136', '1152', '1156', '1165', '1177', '1178', '1183', '1201', '1215', '1235', '1239', '1248', '1252', '1262', '1265', '1274', '1281', '1282', '1292', '1296', '1316', '1348', '1353', '1358', '1395', '1453', '1508', '1523', '1529', '2017', '2026', '2041', '2053', '2060', '2087', '2095', '2106', '2113', '2168', '1033', '1077', '1082', '1101', '1118', '1124', '1131', '1133', '1142', '1164', '1186', '1196', '1209', '1225', '1229', '1232', '1234', '1257', '1293', '1298', '1327', '1356', '1376', '1396', '1442', '1497', '1537', '1546', '2003', '2011', '2086', '2098', '2115', '2122', '2131', '2135', '2207']\n"
     ]
    }
   ],
   "source": [
    "prl_df_select = prl_df[(prl_df.mri_difference > 2) & (prl_df['Total PRL'] > 1)]\n",
    "subjects = [get_subid(subj_string) for subj_string in prl_df_select['ID']]\n",
    "prl_df_select = prl_df[(prl_df.mri_difference > 2) & (prl_df['Total PRL'] == 1)]\n",
    "subjects = subjects + [get_subid(subj_string) for subj_string in prl_df_select['ID']]\n",
    "print(subjects)\n",
    "with open(\"subjects_to_process.txt\", 'w') as f:\n",
    "    for sub in subjects:\n",
    "        f.write(sub+\"\\n\")"
   ]
  }
 ],
 "metadata": {
  "kernelspec": {
   "display_name": "monai",
   "language": "python",
   "name": "python3"
  },
  "language_info": {
   "codemirror_mode": {
    "name": "ipython",
    "version": 3
   },
   "file_extension": ".py",
   "mimetype": "text/x-python",
   "name": "python",
   "nbconvert_exporter": "python",
   "pygments_lexer": "ipython3",
   "version": "3.12.7"
  }
 },
 "nbformat": 4,
 "nbformat_minor": 5
}
